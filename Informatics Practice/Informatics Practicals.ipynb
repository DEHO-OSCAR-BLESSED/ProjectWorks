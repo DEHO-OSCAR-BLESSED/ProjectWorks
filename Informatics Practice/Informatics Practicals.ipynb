{
 "cells": [
  {
   "cell_type": "markdown",
   "metadata": {},
   "source": [
    "## Data Frames"
   ]
  },
  {
   "cell_type": "code",
   "execution_count": 2,
   "metadata": {},
   "outputs": [
    {
     "name": "stdout",
     "output_type": "stream",
     "text": [
      "Students Scores:\n        Name  Maths  Science  Social Studies\n0     oscar     35       45              55\n1     Akoto     45       35              45\n2     James     55       55              65\n3   Ishmael     65       55              65\n4     Laura     75       60              70\n5   Vanessa     85       65              75\n6     Ansah     95       70              80\n7    Mensah     90       75              85\n8  Kingsley     45       80              90\n9     Kafui     45       85              95\n"
     ]
    }
   ],
   "source": [
    "#Student Record Data Frame\n",
    "import  pandas as pd\n",
    "StudentRecord= pd.read_csv(\"Student Records.csv\")\n",
    "\n",
    "print(\"Students Scores:\\n\",StudentRecord)"
   ]
  },
  {
   "cell_type": "code",
   "execution_count": 88,
   "metadata": {},
   "outputs": [
    {
     "name": "stdout",
     "output_type": "stream",
     "text": [
      "-------------------maximum------------------------------------------\nMaths: 95\nScience: 85\nSocial Studies: 95\n"
     ]
    }
   ],
   "source": [
    "#Finding Max\n",
    "print('-------------------maximum------------------------------------------')\n",
    "print(\"Maths:\",StudentRecord['Maths'].max())\n",
    "print(\"Science:\",StudentRecord['Science'].max())\n",
    "print(\"Social Studies:\",StudentRecord['Social Studies'].max())"
   ]
  },
  {
   "cell_type": "code",
   "execution_count": 89,
   "metadata": {},
   "outputs": [
    {
     "name": "stdout",
     "output_type": "stream",
     "text": [
      "-------------------Mode------------------------------------------\nMaths: 0    45\ndtype: int64\nScience: 0    55\ndtype: int64\nSocial Studies: 0    65\ndtype: int64\n"
     ]
    }
   ],
   "source": [
    "#Finding Mode\n",
    "print('-------------------Mode------------------------------------------')\n",
    "print(\"Maths:\",StudentRecord['Maths'].mode())\n",
    "print(\"Science:\",StudentRecord['Science'].mode())\n",
    "print(\"Social Studies:\",StudentRecord['Social Studies'].mode())"
   ]
  },
  {
   "cell_type": "code",
   "execution_count": 90,
   "metadata": {},
   "outputs": [
    {
     "name": "stdout",
     "output_type": "stream",
     "text": [
      "-------------------Mean------------------------------------------\nMaths: 63.5\nScience: 62.5\nSocial Studies: 72.5\n"
     ]
    }
   ],
   "source": [
    "#Finding Mean\n",
    "print('-------------------Mean------------------------------------------')\n",
    "print(\"Maths:\",StudentRecord['Maths'].mean())\n",
    "print(\"Science:\",StudentRecord['Science'].mean())\n",
    "print(\"Social Studies:\",StudentRecord['Social Studies'].mean())"
   ]
  },
  {
   "cell_type": "code",
   "execution_count": 91,
   "metadata": {},
   "outputs": [
    {
     "name": "stdout",
     "output_type": "stream",
     "text": [
      "-------------------Count------------------------------------------\nMaths: 10\nScience: 10\nSocial Studies: 10\n"
     ]
    }
   ],
   "source": [
    "#Finding Count\n",
    "print('-------------------Count------------------------------------------')\n",
    "print(\"Maths:\",StudentRecord['Maths'].count())\n",
    "print(\"Science:\",StudentRecord['Science'].count())\n",
    "print(\"Social Studies:\",StudentRecord['Social Studies'].count())"
   ]
  },
  {
   "cell_type": "code",
   "execution_count": 92,
   "metadata": {},
   "outputs": [
    {
     "name": "stdout",
     "output_type": "stream",
     "text": [
      "-------------------median------------------------------------------\nMaths: 60.0\nScience: 62.5\nSocial Studies: 72.5\n"
     ]
    }
   ],
   "source": [
    "#Finding median\n",
    "print('-------------------median------------------------------------------')\n",
    "print(\"Maths:\",StudentRecord['Maths'].median())\n",
    "print(\"Science:\",StudentRecord['Science'].median())\n",
    "print(\"Social Studies:\",StudentRecord['Social Studies'].median())"
   ]
  },
  {
   "cell_type": "code",
   "execution_count": 93,
   "metadata": {},
   "outputs": [
    {
     "name": "stdout",
     "output_type": "stream",
     "text": [
      "-------------------Sum------------------------------------------\nMaths: 635\nScience: 625\nSocial Studies: 725\n"
     ]
    }
   ],
   "source": [
    "#Finding Sum\n",
    "print('-------------------Sum------------------------------------------')\n",
    "print(\"Maths:\",StudentRecord['Maths'].sum())\n",
    "print(\"Science:\",StudentRecord['Science'].sum())\n",
    "print(\"Social Studies:\",StudentRecord['Social Studies'].sum())"
   ]
  },
  {
   "cell_type": "code",
   "execution_count": 94,
   "metadata": {},
   "outputs": [
    {
     "name": "stdout",
     "output_type": "stream",
     "text": [
      "-------------------Variance------------------------------------------\nMaths: 466.94444444444446\nScience: 245.83333333333334\nSocial Studies: 245.83333333333334\n"
     ]
    }
   ],
   "source": [
    "#Finding Var\n",
    "print('-------------------Variance------------------------------------------')\n",
    "print(\"Maths:\",StudentRecord['Maths'].var())\n",
    "print(\"Science:\",StudentRecord['Science'].var())\n",
    "print(\"Social Studies:\",StudentRecord['Social Studies'].var())"
   ]
  },
  {
   "cell_type": "code",
   "execution_count": 96,
   "metadata": {
    "collapsed": true
   },
   "outputs": [
    {
     "name": "stdout",
     "output_type": "stream",
     "text": [
      "   Col1  Col2  Col3  Col4\n0    10   -20    78   -12\n1    70   -12    78   -23\n2    12    45    87    12\n\n Converted Negatives:\n     Col1  Col2  Col3  Col4\n0    10    20    78    12\n1    70    12    78    23\n2    12    45    87    12\n\nMean:\n Col1    30.666667\nCol2    25.666667\nCol3    81.000000\nCol4    15.666667\ndtype: float64\n\nMode:\n    Col1  Col2  Col3  Col4\n0    10    12  78.0  12.0\n1    12    20   NaN   NaN\n2    70    45   NaN   NaN\n\nMedian:\n Col1    12.0\nCol2    20.0\nCol3    78.0\nCol4    12.0\ndtype: float64\n"
     ]
    }
   ],
   "source": [
    "#Finding Mean, median and mode of negative numbers in a data frame\n",
    "data=[[10,-20,78,-12],[70,-12,78,-23],[12,45,87,12]]\n",
    "df=pd.DataFrame(data,columns= ['Col1','Col2','Col3','Col4'])\n",
    "print(df)\n",
    "\n",
    "#Converting all negatives and findding the mean, median and mode\n",
    "Converted= df.abs()\n",
    "print(\"\\n Converted Negatives:\\n \", Converted)\n",
    "\n",
    "print('\\nMean:\\n',Converted.mean())\n",
    "print('\\nMode:\\n',Converted.mode())\n",
    "print('\\nMedian:\\n',Converted.median())"
   ]
  },
  {
   "cell_type": "markdown",
   "metadata": {},
   "source": [
    "## Expenditure Data Frame "
   ]
  },
  {
   "cell_type": "code",
   "execution_count": 97,
   "metadata": {},
   "outputs": [
    {
     "name": "stdout",
     "output_type": "stream",
     "text": [
      "   Item Name          Category  Expenditure (GHC)\n0      Books      Stationeries                234\n1     TV Set       Electronics                267\n2      Phone       Electronics                354\n3     Bucket  Kitchen Utensils                876\n4  Sauce Pan  Kitchen Utensils                876\n5       Pens      Stationeries                232\n\n Total Expenditure of Each Category\n                  Expenditure (GHC)\nCategory                           \nElectronics                     621\nKitchen Utensils               1752\nStationeries                    466\n"
     ]
    }
   ],
   "source": [
    "Expenditure={\n",
    "    'Item Name':['Books','TV Set', 'Phone','Bucket','Sauce Pan','Pens'],\n",
    "    'Category':['Stationeries','Electronics','Electronics','Kitchen Utensils','Kitchen Utensils','Stationeries'],\n",
    "    'Expenditure (GHC)':[234,267,354,876,876,232]\n",
    "}\n",
    "ExpenditureData=pd.DataFrame(Expenditure)\n",
    "print(ExpenditureData)\n",
    "\n",
    "#Grouping to Find Total Expenditure\n",
    "Expenses= ExpenditureData.groupby('Category').sum()\n",
    "print(\"\\n Total Expenditure of Each Category\")\n",
    "print(Expenses)\n"
   ]
  },
  {
   "cell_type": "markdown",
   "metadata": {},
   "source": [
    "## Using Numpy arrays to find Covariance and Correlation of Sample data"
   ]
  },
  {
   "cell_type": "code",
   "execution_count": 98,
   "metadata": {},
   "outputs": [
    {
     "name": "stdout",
     "output_type": "stream",
     "text": [
      "Array:\n [[12 20 24 40]\n [11 89 34 41]\n [12 22 32 56]\n [56 23 33 90]]\n\n Covariance: \n [[ 138.66666667   56.          221.33333333  225.33333333]\n [  56.         1074.25         45.5        -454.16666667]\n [ 221.33333333   45.5         355.66666667  371.        ]\n [ 225.33333333 -454.16666667  371.          884.33333333]]\n"
     ]
    }
   ],
   "source": [
    "#Covariance\n",
    "import numpy as np\n",
    "arr=np.array([[12,20,24,40],[11,89,34,41],[12,22,32,56],[56,23,33,90]])\n",
    "print(\"Array:\\n\",arr)\n",
    "Covariance= np.cov(arr)\n",
    "print(\"\\n Covariance: \\n\",Covariance)"
   ]
  },
  {
   "cell_type": "code",
   "execution_count": 100,
   "metadata": {},
   "outputs": [
    {
     "name": "stdout",
     "output_type": "stream",
     "text": [
      "Correlation:\n [[ 1.          0.14509395  0.99664204  0.6434746 ]\n [ 0.14509395  1.          0.07361005 -0.46596637]\n [ 0.99664204  0.07361005  1.          0.66152206]\n [ 0.6434746  -0.46596637  0.66152206  1.        ]]\n"
     ]
    }
   ],
   "source": [
    "#Correlation\n",
    "print(\"Correlation:\\n\",np.corrcoef(arr))"
   ]
  },
  {
   "cell_type": "markdown",
   "metadata": {},
   "source": [
    "# Printing Elements above 75th percentile in a Series"
   ]
  },
  {
   "cell_type": "code",
   "execution_count": 102,
   "metadata": {},
   "outputs": [
    {
     "name": "stdout",
     "output_type": "stream",
     "text": [
      "Series:\n [[ 0  1  2  3  4]\n [ 5  6  7  8  9]\n [10 11 12 13 14]\n [15 16 17 18 19]]\n\n elements above 75th percentile:  [ 3.  8. 13. 18.]\n"
     ]
    }
   ],
   "source": [
    "Series =np.arange(20).reshape(4,5)\n",
    "print('Series:\\n', Series)\n",
    "print('\\n elements above 75th percentile: ',np.percentile(Series,75,axis=1))"
   ]
  },
  {
   "cell_type": "markdown",
   "metadata": {},
   "source": [
    "## Stock Market Data"
   ]
  },
  {
   "cell_type": "code",
   "execution_count": 104,
   "metadata": {},
   "outputs": [
    {
     "name": "stdout",
     "output_type": "stream",
     "text": [
      "Top 20 Data in the stock Market dataset\n    symbol        date   open    high    low  close    volume  adj_close\n0     ETF  2015-05-27  12.96  13.000  12.94  12.98      6000      12.98\n1     ETF  2015-05-26  13.24  13.240  13.07  13.07      6900      13.07\n2    XXII  2015-05-27   1.07   1.109   1.03   1.08    299200       1.08\n3    XXII  2015-05-26   1.05   1.220   1.01   1.08    315500       1.08\n4     FCO  2015-05-27   9.24   9.260   9.23   9.24     10000       9.24\n5     FCO  2015-05-26   9.29   9.320   9.27   9.27     14100       9.27\n6     FAX  2015-05-27   5.37   5.380   5.31   5.34   1026300       5.34\n7     FAX  2015-05-26   5.40   5.440   5.37   5.37    655800       5.37\n8     IAF  2015-05-27   6.95   6.970   6.92   6.94     55500       6.94\n9     IAF  2015-05-26   6.98   7.000   6.96   6.98     29600       6.98\n10   ATNM  2015-05-27   3.85   4.070   3.50   3.78   3036800       3.78\n11   ATNM  2015-05-26   3.04   4.340   2.90   3.74  10249200       3.74\n12     AE  2015-05-27  42.11  42.950  40.96  42.50     12800      42.50\n13     AE  2015-05-26  39.00  42.230  39.00  41.51     34700      41.51\n14     IF  2015-05-27   7.59   7.590   7.55   7.57     10600       7.57\n15     IF  2015-05-26   7.60   7.780   7.60   7.62     29300       7.62\n16    ACU  2015-05-27  17.44  17.500  17.43  17.50      2600      17.50\n17    ACU  2015-05-26  17.50  17.500  17.45  17.45       700      17.45\n18    ACY  2015-05-27   8.85   8.990   8.85   8.95       800       8.95\n19    ACY  2015-05-26   8.90   9.000   8.86   8.95      1600       8.95\n\n---------------AGGREGATION--------------------- \n              open        high           low         close      volume  \\\nsum  462610.26315  467024.817  458285.25659  463317.11651  9999272600   \nmax   39100.00000   39500.000   39100.00000   39500.00000    74908300   \nmin       0.01500       0.015       0.01500       0.01500           0   \n\n        adj_close  \nsum  463240.40892  \nmax   39500.00000  \nmin       0.01500  \n\n--------------HIGHEST, LOWEST AND CLOSING PRICE OF EACH STOCK------------\n       symbol     high       low    close\n0        ETF   13.000   12.9400   12.980\n1        ETF   13.240   13.0700   13.070\n2       XXII    1.109    1.0300    1.080\n3       XXII    1.220    1.0100    1.080\n4        FCO    9.260    9.2300    9.240\n5        FCO    9.320    9.2700    9.270\n6        FAX    5.380    5.3100    5.340\n7        FAX    5.440    5.3700    5.370\n8        IAF    6.970    6.9200    6.940\n9        IAF    7.000    6.9600    6.980\n10      ATNM    4.070    3.5000    3.780\n11      ATNM    4.340    2.9000    3.740\n12        AE   42.950   40.9600   42.500\n13        AE   42.230   39.0000   41.510\n14        IF    7.590    7.5500    7.570\n15        IF    7.780    7.6000    7.620\n16       ACU   17.500   17.4300   17.500\n17       ACU   17.500   17.4500   17.450\n18       ACY    8.990    8.8500    8.950\n19       ACY    9.000    8.8600    8.950\n20      AIII    1.620    1.5800    1.580\n21      AIII    1.620    1.5700    1.620\n22       WGA    0.840    0.8000    0.840\n23       WGA    0.840    0.7800    0.840\n24       AXX    0.240    0.2230    0.240\n25       AXX    0.234    0.2270    0.234\n26      AIRI   10.440   10.2901   10.310\n27      AIRI   10.330   10.2800   10.330\n28       AAU    0.910    0.8500    0.890\n29       AAU    0.930    0.8700    0.910\n...      ...      ...       ...      ...\n12068      Z   94.890   92.7600   93.990\n12069      Z   93.940   92.3200   93.360\n12070     ZN    2.040    2.0000    2.010\n12071     ZN    2.030    1.9800    2.030\n12072   ZION   29.290   28.8700   29.260\n12073   ZION   29.120   28.8000   28.960\n12074  ZIONW    4.500    4.2900    4.500\n12075  ZIONW    4.010    4.0100    4.010\n12076   ZLTQ   27.630   26.4300   27.250\n12077   ZLTQ   28.020   25.7900   26.230\n12078   ZHNE    2.210    2.1600    2.200\n12079   ZHNE    2.210    2.1600    2.200\n12080   ZGNX    1.500    1.4100    1.470\n12081   ZGNX    1.410    1.3500    1.390\n12082   ZSPH   62.520   58.7700   60.860\n12083   ZSPH   59.990   57.7800   58.900\n12084     ZU   13.306   13.0500   13.210\n12085     ZU   13.440   13.0800   13.180\n12086   ZIXI    4.650    4.5500    4.650\n12087   ZIXI    4.630    4.5000    4.590\n12088   ZUMZ   30.400   30.0000   30.120\n12089   ZUMZ   30.800   30.0100   30.090\n12090   ZIOP    9.340    9.1000    9.320\n12091   ZIOP    9.460    9.0400    9.140\n12092   ZNGA    2.900    2.8400    2.860\n12093   ZNGA    2.940    2.8500    2.850\n12094   ZSAN    9.630    9.3200    9.560\n12095   ZSAN    9.820    9.2400    9.370\n12096   ZBRA  108.000  106.6100  107.230\n12097   ZBRA  109.380  107.4000  107.990\n\n[12098 rows x 4 columns]\n"
     ]
    }
   ],
   "source": [
    "StockData= pd.read_csv(\"prices.csv\")\n",
    "print(\"Top 20 Data in the stock Market dataset\\n\",StockData[:20])\n",
    "print(\"\\n---------------AGGREGATION--------------------- \\n\",StockData.aggregate({\n",
    "    \"open\":['sum','max','min'],\n",
    "    \"high\":['sum','max','min'],\n",
    "    \"low\":['sum','max','min'],\n",
    "    \"close\":['sum','max','min'],\n",
    "    \"volume\":['sum','max','min'],\n",
    "    \"adj_close\":['sum','max','min'],\n",
    "}))\n",
    "\n",
    "\n",
    "#Highest, Lowest and Closing price of each Stock\n",
    "HiLoclose= StockData[['symbol','high','low','close']]\n",
    "print( \"\\n--------------HIGHEST, LOWEST AND CLOSING PRICE OF EACH STOCK------------\\n\",HiLoclose)"
   ]
  },
  {
   "cell_type": "markdown",
   "metadata": {},
   "source": [
    "## Linear Regression"
   ]
  },
  {
   "cell_type": "code",
   "execution_count": 105,
   "metadata": {},
   "outputs": [
    {
     "data": {
      "image/png": "[encoded data removed]",
      "text/plain": [
       "<Figure size 432x288 with 1 Axes>"
      ]
     },
     "metadata": {},
     "output_type": "display_data"
    }
   ],
   "source": [
    "from sklearn.linear_model import  LinearRegression\n",
    "from matplotlib import  pyplot as plt\n",
    "x= np.array([2,4,6,8,10,12,14,16,18,20]).reshape((-1,1))\n",
    "y=np.array([1,6,3,4,7,6,7,5,9,10])\n",
    "lr=LinearRegression()\n",
    "lr.fit(x,y)\n",
    "plt.scatter(x,y,color=\"blue\")\n",
    "plt.plot(x,lr.predict(x), color= \"black\")\n",
    "plt.title(\" Salary Vs Years of Working\")\n",
    "plt.xlabel(\"Years of Working\")\n",
    "plt.ylabel(\" Salary\")\n",
    "plt.show()"
   ]
  },
  {
   "cell_type": "markdown",
   "metadata": {},
   "source": [
    "## Data From Govenment Website Manipulations (Data Source: Ghana Statiscal Service/Ghana Open Data Initiative"
   ]
  },
  {
   "cell_type": "code",
   "execution_count": 4,
   "metadata": {},
   "outputs": [
    {
     "name": "stdout",
     "output_type": "stream",
     "text": [
      "                                       Indicator  Western  Central  \\\n0                                        13 - 14    82609    79292   \n1                                        15 - 19   123672   124925   \n2                                        20 - 24   118795   103551   \n3                                        25 - 29   105358    89132   \n4                                        30 - 34    81699    71654   \n5                                        35 - 39    71694    64573   \n6                                        40 - 44    57187    54183   \n7                                        45 - 49    44364    45366   \n8                                        50 - 54    38898    44150   \n9    Number of live births in the last 12 months    64623    59001   \n10  Number of women deaths in the last 12 months     3198     3282   \n11       Number of deaths due to maternal causes      281      307   \n12                      Maternal Mortality Ratio      435      520   \n\n    Greater Accra   Volta  Eastern  Ashanti  Brong Ahafo  Northern  \\\n0          119839   69474    90624   169636        82372     75230   \n1          208230  106856   135168   261672       122395    123016   \n2          242272   93400   117053   251410       111687    112364   \n3          233743   83687   104052   223616        98350    105915   \n4          181506   70269    84694   176968        78622     87399   \n5          142896   60886    77474   149072        65767     64434   \n6          110592   54991    67227   118043        53797     54198   \n7           84599   47224    57866    93599        42195     35571   \n8           71531   43529    54297    83838        37588     32470   \n9           93052   52094    67900   124429        61426     60590   \n10           3443    3984     4871     6079         2979      2455   \n11            330     368      365      524          259       322   \n12            355     706      538      421          422       531   \n\n    Upper East  Upper West  \n0        38007       24218  \n1        55642       37301  \n2        42298       29934  \n3        37173       25872  \n4        32369       23328  \n5        28630       19209  \n6        26112       17400  \n7        21153       13186  \n8        19792       12405  \n9        24059       16526  \n10        1999        1057  \n11         193          77  \n12         802         466  \n\n Average Mortality rate by region for the Past 12 Months\n  Western           60985.615385\nCentral           56918.153846\nGreater Accra    114799.076923\nVolta             52882.153846\nEastern           66317.615385\nAshanti          127639.000000\nBrong Ahafo       58296.846154\nNorthern          58038.076923\nUpper East        25248.384615\nUpper West        16998.384615\ndtype: float64\n"
     ]
    }
   ],
   "source": [
    "#Data on Maternal Mortalility Rate in Ghana \n",
    "MaternalMR= pd.read_csv(\"Maternal births and death for women 13 to 54 years by region.csv\")\n",
    "print(MaternalMR)\n",
    "print(\"\\n Average Mortality rate by region for the Past 12 Months\\n \", MaternalMR.mean())\n"
   ]
  },
  {
   "cell_type": "code",
   "execution_count": 8,
   "metadata": {},
   "outputs": [
    {
     "name": "stdout",
     "output_type": "stream",
     "text": [
      "Bar Graph showing distribution of Mortality rate by Regions according to age-groups\n"
     ]
    },
    {
     "data": {
      "text/plain": [
       "<matplotlib.axes._subplots.AxesSubplot at 0xcae05d0>"
      ]
     },
     "execution_count": 8,
     "metadata": {},
     "output_type": "execute_result"
    },
    {
     "data": {
      "image/png": "[encoded data removed]",
      "text/plain": [
       "<Figure size 432x288 with 1 Axes>"
      ]
     },
     "metadata": {},
     "output_type": "display_data"
    }
   ],
   "source": [
    "#Plotting Data\n",
    "print(\"Bar Graph showing distribution of Mortality rate by Regions according to age-groups\")\n",
    "MaternalMR.plot.bar(x='Indicator')\n"
   ]
  },
  {
   "cell_type": "markdown",
   "metadata": {},
   "source": [
    " ## 1-D Array Operations"
   ]
  },
  {
   "cell_type": "code",
   "execution_count": 123,
   "metadata": {
    "scrolled": true
   },
   "outputs": [],
   "source": [
    "import numpy as np\n",
    "_1DArray= np.arange(10)\n",
    "print(\" 1-D array:\", _1DArray)"
   ]
  },
  {
   "cell_type": "code",
   "execution_count": 124,
   "metadata": {},
   "outputs": [
    {
     "name": "stdout",
     "output_type": "stream",
     "text": [
      " ReversedArray:  [9 8 7 6 5 4 3 2 1 0]\n"
     ]
    }
   ],
   "source": [
    "#reverse order array\n",
    "ReversedArray= np.flipud(_1DArray)\n",
    "print(\" ReversedArray: \", ReversedArray)"
   ]
  },
  {
   "cell_type": "code",
   "execution_count": 125,
   "metadata": {
    "scrolled": true
   },
   "outputs": [
    {
     "name": "stdout",
     "output_type": "stream",
     "text": [
      "Evenly Ordered Index Array: [0, 2, 4, 6, 8]\n"
     ]
    }
   ],
   "source": [
    "#Even ordered Index Array \n",
    "Even =[_1DArray[i] for i in range (len(_1DArray))if (i%2==0)]\n",
    "print(\"Evenly Ordered Index Array:\",Even )"
   ]
  },
  {
   "cell_type": "markdown",
   "metadata": {},
   "source": [
    "## 2-D Array Operations"
   ]
  },
  {
   "cell_type": "code",
   "execution_count": 126,
   "metadata": {
    "collapsed": false
   },
   "outputs": [
    {
     "name": "stdout",
     "output_type": "stream",
     "text": [
      "[[10 20 30 40]\n [11 21 31 41]\n [12 22 32 42]\n [13 23 33 43]]\n"
     ]
    }
   ],
   "source": [
    "_2DArray =np.array([[10,20,30,40],[11,21,31,41],[12,22,32,42],[13,23,33,43]])\n",
    "print(_2DArray)"
   ]
  },
  {
   "cell_type": "code",
   "execution_count": 127,
   "metadata": {},
   "outputs": [
    {
     "name": "stdout",
     "output_type": "stream",
     "text": [
      "Row Sum: [100 104 108 112]\n"
     ]
    }
   ],
   "source": [
    "# Row Sum\n",
    "RowSum= np.sum(_2DArray, axis=1)\n",
    "print(\"Row Sum:\",RowSum)"
   ]
  },
  {
   "cell_type": "code",
   "execution_count": 128,
   "metadata": {},
   "outputs": [
    {
     "name": "stdout",
     "output_type": "stream",
     "text": [
      "Column Sum: [ 46  86 126 166]\n"
     ]
    }
   ],
   "source": [
    "#Column Sum\n",
    "ColumnSum= np.sum(_2DArray, axis=0)\n",
    "print(\"Column Sum:\",ColumnSum)"
   ]
  },
  {
   "cell_type": "code",
   "execution_count": 129,
   "metadata": {},
   "outputs": [
    {
     "name": "stdout",
     "output_type": "stream",
     "text": [
      "Diagonal sum: 106\n"
     ]
    }
   ],
   "source": [
    "#Diagonal Sum\n",
    "DiagonalSum=np.trace(_2DArray,offset=0,axis1=0,axis2=1)\n",
    "print(\"Diagonal sum:\",DiagonalSum)"
   ]
  },
  {
   "cell_type": "code",
   "execution_count": 130,
   "metadata": {
    "collapsed": false
   },
   "outputs": [
    {
     "name": "stdout",
     "output_type": "stream",
     "text": [
      "Lower Diagonal:\n [[ 0  0  0  0]\n [11  0  0  0]\n [12 22  0  0]\n [13 23 33  0]]\n"
     ]
    }
   ],
   "source": [
    "#Lower Diagonal Values\n",
    "LowerDiag= np.tril(_2DArray,-1)\n",
    "print(\"Lower Diagonal:\\n\",LowerDiag)"
   ]
  },
  {
   "cell_type": "code",
   "execution_count": 131,
   "metadata": {},
   "outputs": [
    {
     "name": "stdout",
     "output_type": "stream",
     "text": [
      "Sliced:\n [[22 32]\n [23 33]]\n"
     ]
    }
   ],
   "source": [
    "#slicing to obtain 22, 32 and 23, 33\n",
    "\n",
    "Sliced = _2DArray[2:,1:3]\n",
    "print(\"Sliced:\\n\", Sliced)"
   ]
  },
  {
   "cell_type": "code",
   "execution_count": 132,
   "metadata": {},
   "outputs": [],
   "source": []
  },
  {
   "cell_type": "code",
   "execution_count": 132,
   "metadata": {},
   "outputs": [],
   "source": [
    ""
   ]
  },
  {
   "cell_type": "code",
   "execution_count": 132,
   "metadata": {},
   "outputs": [],
   "source": []
  },
  {
   "cell_type": "code",
   "execution_count": 132,
   "metadata": {},
   "outputs": [],
   "source": [
    ""
   ]
  },
  {
   "cell_type": "code",
   "execution_count": 132,
   "metadata": {},
   "outputs": [],
   "source": []
  },
  {
   "cell_type": "code",
   "execution_count": 132,
   "metadata": {},
   "outputs": [],
   "source": []
  },
  {
   "cell_type": "code",
   "execution_count": 132,
   "metadata": {},
   "outputs": [],
   "source": []
  },
  {
   "cell_type": "code",
   "execution_count": 132,
   "metadata": {},
   "outputs": [],
   "source": []
  },
  {
   "cell_type": "code",
   "execution_count": 132,
   "metadata": {},
   "outputs": [],
   "source": []
  },
  {
   "cell_type": "code",
   "execution_count": 132,
   "metadata": {},
   "outputs": [],
   "source": []
  },
  {
   "cell_type": "code",
   "execution_count": 134,
   "metadata": {},
   "outputs": [],
   "source": [
    ""
   ]
  },
  {
   "cell_type": "code",
   "execution_count": 132,
   "metadata": {},
   "outputs": [],
   "source": []
  },
  {
   "cell_type": "code",
   "execution_count": 132,
   "metadata": {},
   "outputs": [],
   "source": []
  },
  {
   "cell_type": "code",
   "execution_count": 83,
   "metadata": {},
   "outputs": [],
   "source": []
  },
  {
   "cell_type": "code",
   "execution_count": 83,
   "metadata": {},
   "outputs": [],
   "source": []
  },
  {
   "cell_type": "code",
   "execution_count": 83,
   "metadata": {},
   "outputs": [],
   "source": []
  },
  {
   "cell_type": "code",
   "execution_count": 83,
   "metadata": {},
   "outputs": [],
   "source": []
  },
  {
   "cell_type": "code",
   "execution_count": 83,
   "metadata": {},
   "outputs": [],
   "source": []
  },
  {
   "cell_type": "code",
   "execution_count": 83,
   "metadata": {},
   "outputs": [],
   "source": []
  },
  {
   "cell_type": "code",
   "execution_count": null,
   "metadata": {},
   "outputs": [],
   "source": []
  }
 ],
 "metadata": {
  "kernelspec": {
   "display_name": "Python 3",
   "language": "python",
   "name": "python3"
  },
  "language_info": {
   "codemirror_mode": {
    "name": "ipython",
    "version": 3
   },
   "file_extension": ".py",
   "mimetype": "text/x-python",
   "name": "python",
   "nbconvert_exporter": "python",
   "pygments_lexer": "ipython3",
   "version": "3.7.2"
  }
 },
 "nbformat": 4,
 "nbformat_minor": 1
}
